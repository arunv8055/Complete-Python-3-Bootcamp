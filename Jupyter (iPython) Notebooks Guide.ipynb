{
 "cells": [
  {
   "cell_type": "code",
   "execution_count": 21,
   "metadata": {},
   "outputs": [],
   "source": [
    "from abc import ABC, abstractmethod\n",
    "\n",
    "class Vehicle(ABC):\n",
    "\n",
    "    @abstractmethod\n",
    "    def go(self):\n",
    "        pass\n",
    "\n",
    "    @abstractmethod\n",
    "    def stop(self):\n",
    "        pass\n",
    "\n",
    "\n",
    "class Car(Vehicle):\n",
    "    def go(self):\n",
    "        print('You can start the car')\n",
    "\n",
    "    def stop(self):\n",
    "        print('Stop the car')\n",
    "\n",
    "class Bike(Vehicle):\n",
    "    def go(self):\n",
    "        print('You can start the bike')\n",
    "\n",
    "    def stop(self):\n",
    "        print('Stop the bike')\n",
    "\n",
    "class Boat(Vehicle):\n",
    "    def go(self):\n",
    "        print('You can start the car')\n",
    "    def stop(self):\n",
    "        print('Stop the boat')\n",
    "\n",
    "    \n",
    "    \n",
    "\n",
    "car = Car()"
   ]
  },
  {
   "cell_type": "code",
   "execution_count": null,
   "metadata": {},
   "outputs": [],
   "source": []
  }
 ],
 "metadata": {
  "kernelspec": {
   "display_name": "Python 3",
   "language": "python",
   "name": "python3"
  },
  "language_info": {
   "codemirror_mode": {
    "name": "ipython",
    "version": 3
   },
   "file_extension": ".py",
   "mimetype": "text/x-python",
   "name": "python",
   "nbconvert_exporter": "python",
   "pygments_lexer": "ipython3",
   "version": "3.13.2"
  }
 },
 "nbformat": 4,
 "nbformat_minor": 1
}
